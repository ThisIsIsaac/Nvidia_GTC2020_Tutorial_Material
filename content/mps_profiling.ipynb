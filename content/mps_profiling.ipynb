{
 "cells": [
  {
   "cell_type": "markdown",
   "metadata": {},
   "source": [
    "# How to use and profile tacotron2 with MPS\n",
    "We provide a profiler `profile_mps` for your convenience. `profile_mps` will run multiple instances of tacotron2 and report performance information in TPS(Transcations Per Second) unit.\n",
    "\n",
    "Usage: `profile_mps <number_of_instances>`\n",
    "\n",
    "You can use `profile_mps` like this way.\n",
    "\n",
    "(We run `. /home/venv/bin/activate` for enabling virtual environment to run tacotron2.)"
   ]
  },
  {
   "cell_type": "code",
   "execution_count": null,
   "metadata": {},
   "outputs": [],
   "source": [
    "# 1 Instance\n",
    "!. /home/venv/bin/activate && /home/profile_mps 1"
   ]
  },
  {
   "cell_type": "code",
   "execution_count": null,
   "metadata": {},
   "outputs": [],
   "source": [
    "# 10 Instances\n",
    "!. /home/venv/bin/activate && /home/profile_mps 10"
   ]
  },
  {
   "cell_type": "markdown",
   "metadata": {},
   "source": [
    "## How to enable MPS\n",
    "- TODO: We should revise this section after new docker image released.\n",
    "\n",
    "## Task\n",
    "1. Profile 1 tacotron2 instance without MPS.\n",
    "2. Profile 10 tacotron2 instances without MPS.\n",
    "3. Profile 10 tacotron2 instances with MPS."
   ]
  }
 ],
 "metadata": {
  "kernelspec": {
   "display_name": "Python 3",
   "language": "python",
   "name": "python3"
  },
  "language_info": {
   "codemirror_mode": {
    "name": "ipython",
    "version": 3
   },
   "file_extension": ".py",
   "mimetype": "text/x-python",
   "name": "python",
   "nbconvert_exporter": "python",
   "pygments_lexer": "ipython3",
   "version": "3.6.9"
  }
 },
 "nbformat": 4,
 "nbformat_minor": 4
}