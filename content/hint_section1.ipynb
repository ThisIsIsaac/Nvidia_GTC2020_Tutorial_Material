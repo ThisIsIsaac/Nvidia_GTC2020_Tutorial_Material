{
 "nbformat": 4,
 "nbformat_minor": 2,
 "metadata": {
  "language_info": {
   "name": "python",
   "codemirror_mode": {
    "name": "ipython",
    "version": 3
   }
  },
  "orig_nbformat": 2,
  "file_extension": ".py",
  "mimetype": "text/x-python",
  "name": "python",
  "npconvert_exporter": "python",
  "pygments_lexer": "ipython3",
  "version": 3
 },
 "cells": [
  {
   "cell_type": "markdown",
   "metadata": {},
   "source": [
    "# Hints for Section 1\n",
    "\n",
    "- This is example for Problem 1-1. You can solve Problem 1-2 in a similar way.\n",
    "\n",
    "![Hint](images/hint_sec1.png \"Hint\")\n",
    "\n",
    "Step 1. Find size of **Cumulative Output**.\n",
    "\n",
    "Step 2. How many tiles are assigned to each SM?\n",
    "\n",
    "Step 3. How many tiles can be executed simultaneously in a single wave?\n",
    "\n",
    "Step 4. Can we divide the cumulative output tensor into one wave?\n",
    "\n",
    "Step 5. Is there any other solutions in given range of batch size?"
   ]
  }
 ]
}