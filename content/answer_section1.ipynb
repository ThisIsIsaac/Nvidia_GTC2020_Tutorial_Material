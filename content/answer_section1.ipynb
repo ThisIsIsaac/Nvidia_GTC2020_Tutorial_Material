{
 "nbformat": 4,
 "nbformat_minor": 2,
 "metadata": {
  "language_info": {
   "name": "python",
   "codemirror_mode": {
    "name": "ipython",
    "version": 3
   }
  },
  "orig_nbformat": 2,
  "file_extension": ".py",
  "mimetype": "text/x-python",
  "name": "python",
  "npconvert_exporter": "python",
  "pygments_lexer": "ipython3",
  "version": 3
 },
 "cells": [
  {
   "cell_type": "markdown",
   "metadata": {},
   "source": [
    "# Answers\n",
    "\n",
    "## Section 1. Wave Quantization\n",
    "\n",
    "### Import libraries and setup"
   ]
  },
  {
   "cell_type": "code",
   "execution_count": null,
   "metadata": {},
   "outputs": [],
   "source": [
    "import tensorflow as tf\n",
    "from tensorflow import nn as nn\n",
    "import os\n",
    "\n",
    "os.environ[\"CUDA_VISIBLE_DEVICES\"] = \"0\"\n",
    "\n",
    "# diltion, padding, and stride are not accounted for!\n",
    "# They are assumed to be default values\n",
    "def get_conv2d_MNK(in_tensor, filter, layout):\n",
    "    if layout == \"NHWC\":\n",
    "        batch_size, in_height, in_width, in_channels = in_tensor.shape\n",
    "\n",
    "    if layout == \"NCHW\":\n",
    "        batch_size, in_channels, in_height, in_width = in_tensor.shape\n",
    "\n",
    "    filter_height, filter_width, in_channels, out_channels = filter.shape\n",
    "\n",
    "    out_height = in_height - (filter_height - 1)\n",
    "    out_width = in_width - (filter_width - 1)\n",
    "\n",
    "    M = batch_size * out_height * out_width\n",
    "    N = out_channels\n",
    "    K = in_channels * filter_width * filter_height\n",
    "\n",
    "    return (M, N, K)\n",
    "\n",
    "\n",
    "def approximate_gflops(in_tensor, filters, layout, time):\n",
    "    if time <= 0:\n",
    "        raise ValueError(\"time must be greater than 0\")\n",
    "    M, N, K = get_conv2d_MNK(in_tensor, filters, layout)\n",
    "    flop = 2*M*N*K\n",
    "    flops = flop / time\n",
    "    gflops = flops / 1000000000\n",
    "    return gflops"
   ]
  },
  {
   "cell_type": "markdown",
   "metadata": {},
   "source": [
    "### Problem 1-1\n",
    "We will apply 2D convolution by this settings.\n",
    "- Batch size: 20\n",
    "- Input tensor: height = width = 15, channel = 64\n",
    "- Filter: 8x8 size\n",
    "- Output tensor: channel = 3072\n",
    "- Tensor layout: NHWC\n",
    "- Tile size: 256x128\n",
    "\n",
    "**Task:** Find **two output channel values** which don't cause wave quantization. The values should be in range `[2000, 5000]`."
   ]
  },
  {
   "cell_type": "code",
   "execution_count": null,
   "metadata": {},
   "outputs": [],
   "source": [
    "# Answer for problem 1-1\n",
    "\n",
    "### DO NOT CHANGE THESE VALUES ###\n",
    "batch_size = 20\n",
    "in_height = 15\n",
    "in_width = 15\n",
    "in_channels = 64\n",
    "filter_height = 8\n",
    "filter_width = 8\n",
    "layout = \"NHWC\"\n",
    "\n",
    "### CHANGE HERE! ###\n",
    "out_channels = 2048 # or can be 4096\n",
    "\n",
    "### DO NOT CHANGE BELOW ###\n",
    "in_tensor = tf.random.uniform([batch_size, in_height, in_width, in_channels], dtype=tf.dtypes.float16)\n",
    "filters = tf.random.uniform([filter_height, filter_width, in_channels, out_channels], dtype=tf.dtypes.float16)\n",
    "\n",
    "# Warming up\n",
    "%timeit -q nn.conv2d(in_tensor, filters, 1, \"VALID\", data_format=layout)\n",
    "\n",
    "# Profile!\n",
    "elapsed_time = %timeit -o -q nn.conv2d(in_tensor, filters, 1, \"VALID\", data_format=layout)\n",
    "print(\"out_channels %d: %f GFLOPS\" % (out_channels, approximate_gflops(in_tensor, filters, layout, elapsed_time.average)))"
   ]
  },
  {
   "cell_type": "markdown",
   "metadata": {},
   "source": [
    "![Graph for Problem 1-1](graphs/ex1-1.png \"Graph for Problem 1-1\")"
   ]
  },
  {
   "cell_type": "markdown",
   "metadata": {},
   "source": [
    "### Problem 1-2\n",
    "We will apply 2D convolution by this settings.\n",
    "- Batch size: 56\n",
    "- Input tensor: height = width = 15, channel = 64\n",
    "- Filter: 8x8 size\n",
    "- Output tensor: channel = 2560\n",
    "- Layout: NHWC\n",
    "- Tile size: 256x64\n",
    "\n",
    "**Task:** Find **one batch size value** which doesn't cause wave quantization. The value should be in range `[40, 60]`."
   ]
  },
  {
   "cell_type": "code",
   "execution_count": null,
   "metadata": {},
   "outputs": [],
   "source": [
    "# Answer for problem 1-2\n",
    "\n",
    "### DO NOT CHANGE THESE VALUES ###\n",
    "in_height = 15\n",
    "in_width = 15\n",
    "in_channels = 64\n",
    "filter_height = 8\n",
    "filter_width = 8\n",
    "out_channels = 2560\n",
    "layout = \"NHWC\"\n",
    "\n",
    "### CHANGE HERE! ###\n",
    "batch_size = 48\n",
    "\n",
    "### DO NOT CHANGE BELOW ###\n",
    "in_tensor = tf.random.uniform([batch_size, in_height, in_width, in_channels], dtype=tf.dtypes.float16)\n",
    "filters = tf.random.uniform([filter_height, filter_width, in_channels, out_channels], dtype=tf.dtypes.float16)\n",
    "\n",
    "# Warming up\n",
    "%timeit -q nn.conv2d(in_tensor, filters, 1, \"VALID\", data_format=layout)\n",
    "\n",
    "# Profile!\n",
    "elapsed_time = %timeit -o -q nn.conv2d(in_tensor, filters, 1, \"VALID\", data_format=layout)\n",
    "print(\"batch_size %d: %f GFLOPS\" % (batch_size, approximate_gflops(in_tensor, filters, layout, elapsed_time.average)))"
   ]
  },
  {
   "cell_type": "markdown",
   "metadata": {},
   "source": [
    "![Graph for Problem 1-2](graphs/ex1-2.png \"Graph for Problem 1-2\")"
   ]
  }
 ]
}