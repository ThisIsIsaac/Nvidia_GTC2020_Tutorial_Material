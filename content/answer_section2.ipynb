{
 "nbformat": 4,
 "nbformat_minor": 2,
 "metadata": {
  "language_info": {
   "name": "python",
   "codemirror_mode": {
    "name": "ipython",
    "version": 3
   }
  },
  "orig_nbformat": 2,
  "file_extension": ".py",
  "mimetype": "text/x-python",
  "name": "python",
  "npconvert_exporter": "python",
  "pygments_lexer": "ipython3",
  "version": 3
 },
 "cells": [
  {
   "cell_type": "markdown",
   "metadata": {},
   "source": [
    "# Answers\n",
    "\n",
    "## Section 2. Tensor Cores\n",
    "\n",
    "### Import libraries and setup"
   ]
  },
  {
   "cell_type": "code",
   "execution_count": null,
   "metadata": {},
   "outputs": [],
   "source": [
    "import tensorflow as tf\n",
    "from tensorflow import nn as nn\n",
    "import os\n",
    "\n",
    "os.environ[\"CUDA_VISIBLE_DEVICES\"] = \"0\"\n",
    "\n",
    "# diltion, padding, and stride are not accounted for!\n",
    "# They are assumed to be default values\n",
    "def get_conv2d_MNK(in_tensor, filter, layout):\n",
    "    if layout == \"NHWC\":\n",
    "        batch_size, in_height, in_width, in_channels = in_tensor.shape\n",
    "\n",
    "    if layout == \"NCHW\":\n",
    "        batch_size, in_channels, in_height, in_width = in_tensor.shape\n",
    "\n",
    "    filter_height, filter_width, in_channels, out_channels = filter.shape\n",
    "\n",
    "    out_height = in_height - (filter_height - 1)\n",
    "    out_width = in_width - (filter_width - 1)\n",
    "\n",
    "    M = batch_size * out_height * out_width\n",
    "    N = out_channels\n",
    "    K = in_channels * filter_width * filter_height\n",
    "\n",
    "    return (M, N, K)\n",
    "\n",
    "\n",
    "def approximate_gflops(in_tensor, filters, layout, time):\n",
    "    if time <= 0:\n",
    "        raise ValueError(\"time must be greater than 0\")\n",
    "    M, N, K = get_conv2d_MNK(in_tensor, filters, layout)\n",
    "    flop = 2*M*N*K\n",
    "    flops = flop / time\n",
    "    gflops = flops / 1000000000\n",
    "    return gflops"
   ]
  },
  {
   "cell_type": "markdown",
   "metadata": {},
   "source": [
    "### Problem 2\n",
    "\n",
    "We will apply 2D convolution by this settings.\n",
    "\n",
    "- Layout: NCHW, Batch size = 8\n",
    "- Input tensor: height = width = 64, channel = 19\n",
    "- Filter: 3x3\n",
    "- Output tensor: channel = 131\n",
    "\n",
    "**Task:** Increase the throughput of the convolution over 11500 GFLOPS by adjusting these values.\n",
    "- Input channel should be in the range `[12, 30]`.\n",
    "- Output channel should be in the range `[128, 192]`.\n",
    "- Tensor layout should be `NHWC` or `NCHW`."
   ]
  },
  {
   "cell_type": "code",
   "execution_count": null,
   "metadata": {},
   "outputs": [],
   "source": [
    "# Answer for Problem 2\n",
    "\n",
    "### DO NOT CHANGE THESE VALUES ###\n",
    "batch_size = 8\n",
    "in_height = 64\n",
    "in_width = 64\n",
    "filter_height = 3\n",
    "filter_width = 3\n",
    "\n",
    "### CHANGE HERE! ###\n",
    "in_channels = 16    # or can be 24\n",
    "out_channels = 128  # or can be 136, 144, ..., 192 (multiple of 8)\n",
    "layout = \"NHWC\"     # NHWC is faster than NCHW in tensor core computation\n",
    "in_tensor = tf.random.uniform([batch_size, in_height, in_width, in_channels], dtype=tf.dtypes.float16)          # You should change the layout of input tensor\n",
    "filters = tf.random.uniform([filter_height, filter_width, in_channels, out_channels], dtype=tf.dtypes.float16)\n",
    "\n",
    "### DO NOT CHANGE BELOW ###\n",
    "# Warming up\n",
    "%timeit -q nn.conv2d(in_tensor, filters, 1, \"VALID\", data_format=layout)\n",
    "\n",
    "# Profile!\n",
    "elapsed_time = %timeit -o -q nn.conv2d(in_tensor, filters, 1, \"VALID\", data_format=layout)\n",
    "print(\"out_channels %d: %f GFLOPS\" % (out_channels, approximate_gflops(in_tensor, filters, layout, elapsed_time.average)))"
   ]
  },
  {
   "cell_type": "markdown",
   "metadata": {},
   "source": [
    "### Plot for input channel 16, output channel 128 ~ 156\n",
    "\n",
    "![Graph for Problem 2](graphs/ex2.png \"Graph for Problem 2\")"
   ]
  }
 ]
}