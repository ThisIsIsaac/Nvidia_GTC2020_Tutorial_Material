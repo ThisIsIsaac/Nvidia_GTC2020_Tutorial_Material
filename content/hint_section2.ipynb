{
 "nbformat": 4,
 "nbformat_minor": 2,
 "metadata": {
  "language_info": {
   "name": "python",
   "codemirror_mode": {
    "name": "ipython",
    "version": 3
   }
  },
  "orig_nbformat": 2,
  "file_extension": ".py",
  "mimetype": "text/x-python",
  "name": "python",
  "npconvert_exporter": "python",
  "pygments_lexer": "ipython3",
  "version": 3
 },
 "cells": [
  {
   "cell_type": "markdown",
   "metadata": {},
   "source": [
    "# Hints for Section 2\n",
    "\n",
    "For the best performance with tensor core, some conditions should be satisfied.\n",
    "\n",
    "- Input and weight must be **FP16**.\n",
    "\n",
    "- Layout compare: NHWC vs NCHW.\n",
    "\n",
    "![Layout Compare](images/hint_sec2_layout_compare.png \"Layout Compare\")\n",
    "\n",
    "- Some dimensions should be divisible by 8.\n",
    "\n",
    "![Divisible by 8](images/hint_sec2_divisible_by_8.png \"Divisible by 8\")\n"
   ]
  }
 ]
}